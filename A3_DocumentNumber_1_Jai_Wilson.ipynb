{
 "cells": [
  {
   "cell_type": "markdown",
   "metadata": {
    "pycharm": {
     "is_executing": false,
     "name": "#%%\n"
    }
   },
   "source": [
    "## Identifying the Most Problematic Cars and Their Faults Through Named-Entity-Recognition and POS Tagging"
   ]
  },
  {
   "cell_type": "markdown",
   "metadata": {},
   "source": [
    "The automobile industry is known for having constant recalls and part failures, with some makes of cars begin more problematic than others. An NLP project to identify the most problematic cars and/or their most problematic parts can benefit a multitude of people. Such as car manufacturers wanting to find their own faults, or customers knowing what cars to avoid when buying.\n",
    "\n",
    "For this NLP project to be successful, a large text corpus with relevant natural language data is needed. Using a web scraper to scrape an online forum that relates to part failures would be extremely useful to generate this corpus. Often in car repair forums, the make/model of the car are mentioned, along with a description of the part failure. A large enough corpus with natural language data relevant to this project is exactly what is needed.\n",
    "\n",
    "After the data is scraped, Named Entity Recognition will be used to find if a make/model of a car has been mentioned in a forum post. Ideally, a post will contain text similar to “Alternator making whistling noise on 2006 Toyota Corolla”. If this works successfully, “Toyota” will be identified as the make of the car. After doing this for a large corpus, the most mentioned entities should be found, indicating the most problematic cars. \n",
    "\n",
    "After the most common entities are found, posts containing these entities can be extracted separately. These posts will then be analysed with Parts of Speech tagging (POS tagging) and extract the most mentioned nouns, which will most likely be a car pat that is most often failing for that entity (male/model of car). A post might contain text like “Hi! I have found that my alternator in my Toyota Corolla is making a whistling sound, any ideas what it could be?”. The intended output should find a most frequent mentioned noun for a specific brand as “transmission”, “engine”, “brakes”, “alternator”, or a car part like this.\n",
    "\n",
    "The sentences that contain these nouns will ideally contain a word describing the noun (problem). Typically, these words will be adjectives, adverbs, or verbs. From the example in the previous paragraph, the word describing the problem is “whistling”. The most common describing words associated to a specific problem (noun) will be extracted and analysed in relation to the noun they are found with.\n",
    "\n",
    "After the two NLP methods (NER and POS) have taken place, the intended output should find the most mentioned car brands, their most common part failures, and something describing the failure. A forum should be chosen that is in the correct context, so if any of the features are mentioned within a forum, it can be assumed they are mentioned in a context where something has broken, rather than praising how good a car and a specific part is. This will ideally identify the most problematic makes of cars, and what their problems are, aligining to the overall project. \n"
   ]
  }
 ],
 "metadata": {
  "kernelspec": {
   "display_name": "Python 3",
   "language": "python",
   "name": "python3"
  },
  "language_info": {
   "codemirror_mode": {
    "name": "ipython",
    "version": 3
   },
   "file_extension": ".py",
   "mimetype": "text/x-python",
   "name": "python",
   "nbconvert_exporter": "python",
   "pygments_lexer": "ipython3",
   "version": "3.7.7"
  },
  "pycharm": {
   "stem_cell": {
    "cell_type": "raw",
    "metadata": {
     "collapsed": false
    },
    "source": [
     "import spacy\n",
     "nlp = spacy.load(\"en_core_web_sm\")\n",
     "print(\"Hello\")\n",
     "\n"
    ]
   }
  }
 },
 "nbformat": 4,
 "nbformat_minor": 1
}
